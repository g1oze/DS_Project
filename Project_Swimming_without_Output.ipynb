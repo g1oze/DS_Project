{
 "cells": [
  {
   "cell_type": "markdown",
   "id": "cab9b280-b97c-4c61-a1ac-baf58eb42d65",
   "metadata": {},
   "source": [
    "# Наука о данных. Финальный проект"
   ]
  },
  {
   "cell_type": "markdown",
   "id": "0e65aa17-3965-4c2f-84f7-264cdd40cbfe",
   "metadata": {},
   "source": [
    "*2023-2024 учебный год*\n",
    "\n",
    "**Автор:** *Лосевской Артём*"
   ]
  },
  {
   "cell_type": "markdown",
   "id": "775cd7ee-5b9a-4b6f-94eb-e8da3833c54f",
   "metadata": {},
   "source": [
    "# Описание проекта"
   ]
  },
  {
   "cell_type": "markdown",
   "id": "4e624e8a-0b29-4b4f-9398-0a9dc86c76a3",
   "metadata": {},
   "source": [
    "Кратко скажу здесь, что проект посвящён анализу спортивного плавания в российских регионах. Более подробную информацию можно найти в файле README.\n",
    "\n",
    "Используемые библиотеки и инструменты:\n",
    "\n",
    "1. Pandas\n",
    "2. Scrapy\n",
    "3. Re\n",
    "4. Matplotlib\n",
    "5. Numpy\n",
    "6. Scikit-learn\n",
    "7. Geopandas и Folium\n",
    "8. SQL (SQLAlchemy)"
   ]
  },
  {
   "cell_type": "markdown",
   "id": "56e42565-8ab6-4cca-9708-2d8b85efd524",
   "metadata": {},
   "source": [
    "# Часть 0. Необходимые приготовления"
   ]
  },
  {
   "cell_type": "markdown",
   "id": "08c05f2e-83b4-455c-86ea-401b509a137b",
   "metadata": {},
   "source": [
    "Импортируем библиотеки:"
   ]
  },
  {
   "cell_type": "code",
   "execution_count": null,
   "id": "22106cae-6cf8-4f02-a913-b60cd89bbcef",
   "metadata": {},
   "outputs": [],
   "source": [
    "import numpy as np\n",
    "import pandas as pd\n",
    "import matplotlib as mpl\n",
    "import matplotlib.pyplot as plt"
   ]
  },
  {
   "cell_type": "markdown",
   "id": "e9ab3c8b-9677-4496-b185-7a4c3eefe479",
   "metadata": {},
   "source": [
    "# Часть 1. Парсинг данных"
   ]
  },
  {
   "cell_type": "markdown",
   "id": "99aa6524-30c3-465e-a338-9bde126c3d27",
   "metadata": {},
   "source": [
    "Соберем все данные по количеству бассейнов в каждом регионе. Для этого воспользуюсь сайтом Всероссийской Федерации Плавания. Скрепинг осуществлен с помощью scrapy — весь код в отдельном файле. \n",
    "\n",
    "Данные немного устаревшие (2019 год), но более свежих достоверных сведений по количеству бассейнов, в которых осуществляется сопртивная подготвока, не найти. Итого на 2019 год имеем данные по 85 субъектам:"
   ]
  },
  {
   "cell_type": "code",
   "execution_count": null,
   "id": "4d0eebbc-5024-4d49-8e03-33e46ec44b79",
   "metadata": {},
   "outputs": [],
   "source": [
    "pools = pd.read_json(\"pools_2019.json\")\n",
    "pools"
   ]
  },
  {
   "cell_type": "code",
   "execution_count": null,
   "id": "b7773bc7",
   "metadata": {},
   "outputs": [],
   "source": [
    "pools['region'].tolist()"
   ]
  },
  {
   "cell_type": "markdown",
   "id": "5a5b416f-9008-4c9f-a4da-b0e80c3bd58e",
   "metadata": {},
   "source": [
    "# Часть 2. Работа с датасетами"
   ]
  },
  {
   "cell_type": "markdown",
   "id": "2d16cb21",
   "metadata": {},
   "source": [
    "Загрузим датасет с населением России и полигонами для карты"
   ]
  },
  {
   "cell_type": "code",
   "execution_count": null,
   "id": "ca8e4e64-e99c-4cf1-aeaa-6dfbd715c3e0",
   "metadata": {},
   "outputs": [],
   "source": [
    "import geopandas as gpd\n",
    "regions_data = gpd.read_file(\"russia_regions_simplified.json\")\n",
    "regions_data"
   ]
  },
  {
   "cell_type": "code",
   "execution_count": null,
   "id": "13f4248b",
   "metadata": {},
   "outputs": [],
   "source": [
    "regions_data.plot(column = 'federal_district', legend = True, cmap = 'viridis', figsize=[16, 9])"
   ]
  },
  {
   "cell_type": "markdown",
   "id": "8c46daf7",
   "metadata": {},
   "source": [
    "В датасете я обнаружил 2 проблемы. \n",
    "- Во-первых, на нём есть Крымский федеральный округ (такой просуществовал в 2014-2016 годах). Севастополь и республику Крым нужно отнести к Южному ФО.\n",
    "- Во-вторых, часть Чукотки оторвана от остальной России. Карту хорошо бы привести в нужную географическую систему отсчета. \n",
    "\n",
    "Займёмся этим:"
   ]
  },
  {
   "cell_type": "code",
   "execution_count": null,
   "id": "b0a85070",
   "metadata": {},
   "outputs": [],
   "source": [
    "regions_data[regions_data['federal_district'] == 'Крымский']"
   ]
  },
  {
   "cell_type": "code",
   "execution_count": null,
   "id": "87370662",
   "metadata": {},
   "outputs": [],
   "source": [
    "li = regions_data[regions_data['federal_district'] == 'Крымский'].index.tolist()\n",
    "regions_data.loc[li, 'federal_district'] = 'Южный'\n",
    "\n",
    "regions_data_fot_plotting = regions_data.to_crs('EPSG:32646') #Исходная система отсчёта понадобится позже, когда начну работать с folium.\n",
    "\n",
    "#Пробовал и просто перейти к этой системе отсчёта, но при работе с Folium возникали проблемы с геометрией"
   ]
  },
  {
   "cell_type": "code",
   "execution_count": null,
   "id": "5ca031e5",
   "metadata": {},
   "outputs": [],
   "source": [
    "regions_data_fot_plotting.plot(column = 'region', legend = True, figsize=[16, 9])"
   ]
  },
  {
   "cell_type": "code",
   "execution_count": null,
   "id": "e703ffca",
   "metadata": {},
   "outputs": [],
   "source": [
    "regions_data_fot_plotting.plot(column = 'federal_district', legend = True, cmap = 'viridis', figsize=[16, 9])"
   ]
  },
  {
   "cell_type": "code",
   "execution_count": null,
   "id": "3fc1fe6b",
   "metadata": {},
   "outputs": [],
   "source": [
    "regions_data"
   ]
  },
  {
   "cell_type": "markdown",
   "id": "26bb32b9",
   "metadata": {},
   "source": [
    "Карта не пострадала. Другая проблема — несоответствие имён некоторых регионов с датасетом, содержащим бассейны. Для их объединения надо бы привести всё к одному виду. \n",
    "\n",
    "Некоторые регионы называются в датасетах по-разному. Например, \"Город федерального значения Москва\" Придётся переименовать их вручную:\n",
    "\n",
    "Избавлюсь от Город фед.значения в pools; заменю в regions_data и pools автономный округ (в обоих) и автономная область (это в regions_data) на АО. Югра — вручную."
   ]
  },
  {
   "cell_type": "code",
   "execution_count": null,
   "id": "041d02fb",
   "metadata": {},
   "outputs": [],
   "source": [
    "pools['region'] = pools['region'].str.replace('Город федерального значения ', '')\n",
    "pools['region'] = pools['region'].str.replace(' автономный округ', ' АО')\n",
    "pools"
   ]
  },
  {
   "cell_type": "code",
   "execution_count": null,
   "id": "ef0206f1",
   "metadata": {},
   "outputs": [],
   "source": [
    "regions_data['region'] = regions_data['region'].str.replace(' автономный округ', ' АО')\n",
    "regions_data['region'] = regions_data['region'].str.replace(' автономная область', ' АО')\n",
    "regions_data['region'] = regions_data['region'].str.replace('Ханты-Мансийский АО — Югра', 'Ханты-Мансийский АО')\n",
    "regions_data[regions_data['region'].str.contains('АО')]"
   ]
  },
  {
   "cell_type": "code",
   "execution_count": null,
   "id": "7fe193c6",
   "metadata": {},
   "outputs": [],
   "source": [
    "regions_pools = pd.merge(pools, regions_data, left_on = 'region', right_on = 'region', how = \"inner\")\n",
    "regions_pools[regions_pools['region'].str.contains('АО')]"
   ]
  },
  {
   "cell_type": "code",
   "execution_count": null,
   "id": "e7ca6b57",
   "metadata": {},
   "outputs": [],
   "source": [
    "regions_pools"
   ]
  },
  {
   "cell_type": "markdown",
   "id": "f7288370",
   "metadata": {},
   "source": [
    "84, нужно 85. Еще есть проблема с Северной Осетией. Не выяснил, в чём именно. Просто заменю в pools:"
   ]
  },
  {
   "cell_type": "code",
   "execution_count": null,
   "id": "e84a372b",
   "metadata": {},
   "outputs": [],
   "source": [
    "regions_pools_test = pd.merge(pools, regions_data, left_on = 'region', right_on = 'region', how = \"left\")\n",
    "regions_pools_test[regions_pools_test['population'].isnull()]"
   ]
  },
  {
   "cell_type": "code",
   "execution_count": null,
   "id": "a7109d56",
   "metadata": {},
   "outputs": [],
   "source": [
    "pools[pools['region'] == 'Республика Северная Осетия — Алания']"
   ]
  },
  {
   "cell_type": "code",
   "execution_count": null,
   "id": "1e04744a",
   "metadata": {},
   "outputs": [],
   "source": [
    "regions_data[regions_data['region'] == 'Республика Северная Осетия — Алания']"
   ]
  },
  {
   "cell_type": "code",
   "execution_count": null,
   "id": "ddb9a5a5",
   "metadata": {},
   "outputs": [],
   "source": [
    "#need_replacement = pools[pools['region'].str.contains('Северная Осетия')]\n",
    "pools.iloc[41, 0] = 'Республика Северная Осетия — Алания'"
   ]
  },
  {
   "cell_type": "code",
   "execution_count": null,
   "id": "e54849de",
   "metadata": {},
   "outputs": [],
   "source": [
    "#pools['region'] = pools['region'].str.replace(' автономный округ', 'jct')\n",
    "regions_pools = pd.merge(regions_data, pools, left_on = 'region', right_on = 'region', how = \"inner\")\n",
    "regions_pools"
   ]
  },
  {
   "cell_type": "markdown",
   "id": "8c3a7111",
   "metadata": {},
   "source": [
    "Теперь всё в порядке: имеем все (на 2019) 85 регионов."
   ]
  },
  {
   "cell_type": "markdown",
   "id": "c8578983",
   "metadata": {},
   "source": [
    "# Часть 3.1. Анализ количества бассейнов в регионах"
   ]
  },
  {
   "cell_type": "markdown",
   "id": "acf9418e",
   "metadata": {},
   "source": [
    "## Гипотеза"
   ]
  },
  {
   "cell_type": "markdown",
   "id": "42d93436",
   "metadata": {},
   "source": [
    "Первая гипотеза, которая приходит на ум после взгляда на имеющиеся данные (да в общем-то и без них тоже), это то, что количество бассейнов в регионе положительно зависит от численности населения.\n",
    "\n",
    "Попробуем для начала отсортировать регионы по общему количеству бассейнов в них, а затем — по количеству пятидесяти метровых бассейнов."
   ]
  },
  {
   "cell_type": "markdown",
   "id": "f6d90b2c",
   "metadata": {},
   "source": [
    "## Визуализация"
   ]
  },
  {
   "cell_type": "markdown",
   "id": "d8d636aa",
   "metadata": {},
   "source": [
    "Имеем две переменные: население региона и количество бассейнов в нём. Независимой переменной будем считать население, а прогнозируемой переменной — количество бассейнов (общее количество, а также количество 50-метровых). В обоих случаях попробуем также задать линию тренда, то есть апроксимировать полиномом первой степени."
   ]
  },
  {
   "cell_type": "code",
   "execution_count": null,
   "id": "88bae924",
   "metadata": {},
   "outputs": [],
   "source": [
    "fig = plt.figure(figsize=(16, 8))\n",
    "ax1 = fig.add_subplot(1, 2, 1)\n",
    "ax2 = fig.add_subplot(1, 2, 2)\n",
    "x = regions_pools['population'] / 1000000\n",
    "y1, y2 = regions_pools['total'], regions_pools['50m']\n",
    "\n",
    "ax1.scatter(x, y1, color = 'b')\n",
    "ax1.set_xlabel('Население, млн', fontsize = 12)\n",
    "ax1.set_ylabel('Количество бассейнов', fontsize = 12)\n",
    "ax1.set_title('Scatter plot: население региона — общее число бассейнов', weight = 'bold', fontsize = 14)\n",
    "ax1.set_facecolor('whitesmoke')\n",
    "ax1.grid(True)\n",
    "z = np.polyfit(regions_pools['population'] / 1000000, regions_pools['total'], 1)\n",
    "p = np.poly1d(z)\n",
    "ax1.plot(x, p(x), color = \"purple\")\n",
    "\n",
    "ax2.scatter(x, y2, color = 'b')\n",
    "ax2.set_xlabel('Население, млн', fontsize = 12)\n",
    "ax2.set_ylabel('Количество \"полтинников\"', fontsize = 12)\n",
    "ax2.set_title('Scatter plot: население региона — общее число бассейнов', weight = 'bold', fontsize = 14)\n",
    "ax2.set_facecolor('whitesmoke')\n",
    "ax2.grid(True)\n",
    "z2 = np.polyfit(regions_pools['population'] / 1000000, regions_pools['50m'], 1)\n",
    "p2 = np.poly1d(z2)\n",
    "ax2.plot(x, p2(x), color = \"purple\")\n"
   ]
  },
  {
   "cell_type": "markdown",
   "id": "553fe4d2",
   "metadata": {},
   "source": [
    "Москва и Московская область очень отрываются от остальных по населению. А если их убрать? "
   ]
  },
  {
   "cell_type": "code",
   "execution_count": null,
   "id": "14e93634",
   "metadata": {},
   "outputs": [],
   "source": [
    "#Применим группировку по населению: отбросим регионы с населением более 6 млн человек. \n",
    "regions_pools_dropMoscowAndMO = regions_pools.loc[regions_pools['population'] <= 6000000]\n",
    "#Так уж совпадает, что таких регионов всего два — Москва и Мос. область.\n",
    "regions_pools_dropMoscowAndMO.sort_values('population', ascending = False)"
   ]
  },
  {
   "cell_type": "code",
   "execution_count": null,
   "id": "66f9774c",
   "metadata": {},
   "outputs": [],
   "source": [
    "fig = plt.figure(figsize=(16, 8))\n",
    "ax1 = fig.add_subplot(1, 2, 1)\n",
    "ax2 = fig.add_subplot(1, 2, 2)\n",
    "x = regions_pools_dropMoscowAndMO['population'] / 1000000\n",
    "y1, y2 = regions_pools_dropMoscowAndMO['total'], regions_pools_dropMoscowAndMO['50m']\n",
    "\n",
    "ax1.scatter(x, y1, color = 'b')\n",
    "ax1.set_xlabel('Население, млн', fontsize = 12)\n",
    "ax1.set_ylabel('Количество бассейнов', fontsize = 12)\n",
    "ax1.set_title('Scatter plot: население региона — общее число бассейнов', weight = 'bold', fontsize = 14)\n",
    "ax1.set_facecolor('whitesmoke')\n",
    "ax1.grid(True)\n",
    "z = np.polyfit(regions_pools['population'] / 1000000, regions_pools['total'], 1)\n",
    "p = np.poly1d(z)\n",
    "ax1.plot(x, p(x), color = \"purple\", linewidth = 2, linestyle = \"dashed\")\n",
    "\n",
    "ax2.scatter(x, y2, color = 'b')\n",
    "ax2.set_xlabel('Население, млн', fontsize = 12)\n",
    "ax2.set_ylabel('Количество \"полтинников\"', fontsize = 12)\n",
    "ax2.set_title('Scatter plot: население региона — общее число бассейнов', weight = 'bold', fontsize = 14)\n",
    "ax2.set_facecolor('whitesmoke')\n",
    "ax2.grid(True)\n",
    "z2 = np.polyfit(regions_pools['population'] / 1000000, regions_pools['50m'], 1)\n",
    "p2 = np.poly1d(z2)\n",
    "ax2.plot(x, p2(x), color = \"purple\", linestyle = \"dashed\")\n"
   ]
  },
  {
   "cell_type": "markdown",
   "id": "7474e8e4",
   "metadata": {},
   "source": [
    "Вполне ожидаемо видим явный тренд на увеличение числа бассейнов по мере роста населения."
   ]
  },
  {
   "cell_type": "markdown",
   "id": "05532cb4",
   "metadata": {},
   "source": [
    "## Корелляции числа бассейнов и населения"
   ]
  },
  {
   "cell_type": "markdown",
   "id": "852fba88",
   "metadata": {},
   "source": [
    "Посмотрим, какова корелляция переменных:"
   ]
  },
  {
   "cell_type": "code",
   "execution_count": null,
   "id": "ee5b7640",
   "metadata": {},
   "outputs": [],
   "source": [
    "regions_pools.sort_values('total', ascending = False)"
   ]
  },
  {
   "cell_type": "code",
   "execution_count": null,
   "id": "1561162a",
   "metadata": {},
   "outputs": [],
   "source": [
    "regions_pools.sort_values('50m', ascending = False)"
   ]
  },
  {
   "cell_type": "code",
   "execution_count": null,
   "id": "1b59d2bb",
   "metadata": {},
   "outputs": [],
   "source": [
    "correlation = regions_pools['total'].corr(regions_pools['population'])\n",
    "print(correlation)"
   ]
  },
  {
   "cell_type": "code",
   "execution_count": null,
   "id": "49bac78f",
   "metadata": {},
   "outputs": [],
   "source": [
    "correlation_50m = regions_pools['50m'].corr(regions_pools['population'])\n",
    "print(correlation_50m)"
   ]
  },
  {
   "cell_type": "markdown",
   "id": "68e0d1b4",
   "metadata": {},
   "source": [
    "Видим, что общая численность населения в регионе сильно положительно кореллирует с общим количеством бассейнов в нём, и несколько хуже — с количеством \"полтинников\"."
   ]
  },
  {
   "cell_type": "markdown",
   "id": "b9c61487",
   "metadata": {},
   "source": [
    "## Предсказательная модель"
   ]
  },
  {
   "cell_type": "markdown",
   "id": "5c59697a",
   "metadata": {},
   "source": [
    "Попробуем построить предсказательную модель числа бассейнов в регионе по количеству жителей в регионе. Для этого применим линейную регресиию и самый базовый метод оценки коэффициентов — метод наименьших квадратов."
   ]
  },
  {
   "cell_type": "code",
   "execution_count": null,
   "id": "8d2f0e88",
   "metadata": {},
   "outputs": [],
   "source": [
    "from sklearn.linear_model import LinearRegression\n",
    "from sklearn.metrics import mean_squared_error, r2_score, mean_absolute_error\n",
    "from sklearn.model_selection import train_test_split\n",
    "\n",
    "X = np.array(regions_pools['population']).reshape(-1, 1)\n",
    "y = np.array(regions_pools['total'])\n",
    "\n",
    "\n",
    "X_train, X_test, y_train, y_test = train_test_split(X, y, test_size = 0.4, random_state = 42)\n",
    "\n",
    "regr = LinearRegression()\n",
    "regr.fit(X_train, y_train)\n",
    "y_pred = regr.predict(X_test)\n",
    "\n",
    "print(\"Mean squared error (MSE):  %.2f\" % mean_squared_error(y_test, y_pred))\n",
    "print(\"Mean absolute error (MAE):  %.2f\" % mean_absolute_error(y_test, y_pred))\n",
    "print(\"Coefficient of determination (R^2): %.2f\" % r2_score(y_test, y_pred))\n",
    "\n",
    "plt.scatter(X_test, y_test, color=\"black\")\n",
    "plt.plot(X_test, y_pred, color=\"blue\", linewidth=2)\n",
    "plt.xlabel(\"Население, млн\")\n",
    "plt.ylabel(\"Количество бассейнов\")\n",
    "plt.title(\"Реальные данные и прогноз\")\n",
    "plt.show()"
   ]
  },
  {
   "cell_type": "markdown",
   "id": "fb9898fb",
   "metadata": {},
   "source": [
    "Проведём аналогичную процедуру, но теперь без Москвы и МО (МО, как видно из графика, была в тестируемой выборке):"
   ]
  },
  {
   "cell_type": "code",
   "execution_count": null,
   "id": "8b83fceb",
   "metadata": {},
   "outputs": [],
   "source": [
    "X = np.array(regions_pools_dropMoscowAndMO['population']).reshape(-1, 1)\n",
    "y = np.array(regions_pools_dropMoscowAndMO['total'])\n",
    "\n",
    "X_train, X_test, y_train, y_test = train_test_split(X, y, test_size = 0.4, random_state = 42)\n",
    "\n",
    "regr = LinearRegression()\n",
    "regr.fit(X_train, y_train)\n",
    "y_pred = regr.predict(X_test)\n",
    "\n",
    "print(\"Mean squared error (MSE):  %.2f\" % mean_squared_error(y_test, y_pred))\n",
    "print(\"Mean absolute error (MAE):  %.2f\" % mean_absolute_error(y_test, y_pred))\n",
    "print(\"Coefficient of determination (R^2): %.2f\" % r2_score(y_test, y_pred))\n",
    "\n",
    "plt.scatter(X_test, y_test, color=\"black\")\n",
    "plt.plot(X_test, y_pred, color=\"blue\", linewidth=2)\n",
    "plt.xlabel(\"Население, млн\")\n",
    "plt.ylabel(\"Количество бассейнов\")\n",
    "plt.title(\"Реальные данные и прогноз\")\n",
    "plt.show()"
   ]
  },
  {
   "cell_type": "markdown",
   "id": "8014ef68",
   "metadata": {},
   "source": [
    "Коэффициент детерминации заметно снизился, что несколько неожиданный результат. С другой стороны, Москва и МО были близки к прогнозируемым значениям (в отличии от крайних точек справа для датасета без Москвы и МО), поэтому такой результат тоже можно было допустить."
   ]
  },
  {
   "cell_type": "markdown",
   "id": "148c0af9",
   "metadata": {},
   "source": [
    "## Карта 1"
   ]
  },
  {
   "cell_type": "markdown",
   "id": "4245efcb",
   "metadata": {},
   "source": [
    "Попробуем нанести на карту имеющуюся у нас информацию по числу бассейнов. Чем больше в регионе общее бассейнов, тем более тёплым будет цвет региона. "
   ]
  },
  {
   "cell_type": "code",
   "execution_count": null,
   "id": "098cdc4e",
   "metadata": {},
   "outputs": [],
   "source": [
    "regions_pools_for_plotting = regions_pools.to_crs('EPSG:32646')\n",
    "\n",
    "fig, ax = plt.subplots(figsize=[16, 9])\n",
    "ax = regions_pools_for_plotting.plot(ax = ax, column = 'total', legend = True, cmap = 'coolwarm', figsize=[16, 9])\n",
    "\n",
    "plt.title('Количество бассейнов в регионах', fontsize = 22)\n",
    "ax.set_axis_off()\n",
    "\n",
    "plt.show()"
   ]
  },
  {
   "cell_type": "markdown",
   "id": "c3e71f39",
   "metadata": {},
   "source": [
    "Откровенно говоря, информацию из такой карты почерпнуть сложно. Воспользуюсь folium"
   ]
  },
  {
   "cell_type": "markdown",
   "id": "92982683",
   "metadata": {},
   "source": [
    "## Карта 2"
   ]
  },
  {
   "cell_type": "markdown",
   "id": "8f81f1f4",
   "metadata": {},
   "source": [
    "Создадим с помощью folium интерактивную карту с палитрой цветов, что будет раскрашивать регион в зависимости от общего количества бассейнов. Также вынесем в посдказки информацию как об общем количестве бассейнов, так и о 50-метровых бассейнах в выбранном регионе."
   ]
  },
  {
   "cell_type": "code",
   "execution_count": null,
   "id": "6a7702dc-7994-4ac7-b342-1fe201a0a76f",
   "metadata": {},
   "outputs": [],
   "source": [
    "#выгружаю датасет локально, чтобы впоследствии сделать демонстрацию карты в Streamlit\n",
    "\n",
    "regions_pools.to_file(\"regions_pools.json\", driver=\"GeoJSON\")"
   ]
  },
  {
   "cell_type": "code",
   "execution_count": null,
   "id": "0a42dda5",
   "metadata": {},
   "outputs": [],
   "source": [
    "import folium\n",
    "import branca.colormap as cm\n",
    "\n",
    "m = folium.Map(location=[64.6863136, 97.7453061], zoom_start=3)\n",
    "\n",
    "max_count = regions_pools['total'].max()\n",
    "min_count = regions_pools['total'].min()\n",
    "colormap = cm.linear.YlGnBu_09.scale(min_count, max_count)\n",
    "colormap.add_to(m)\n",
    "\n",
    "def style_function(feature):\n",
    "    regions_pools = feature['properties']['total']\n",
    "    return {\n",
    "        'fillColor': colormap(regions_pools),\n",
    "        'color': 'black',\n",
    "        'weight': 1,\n",
    "        'fillOpacity': 0.7\n",
    "    }\n",
    "\n",
    "folium.GeoJson(\n",
    "    regions_pools,\n",
    "    style_function=style_function,\n",
    "    tooltip=folium.GeoJsonTooltip(\n",
    "        fields=['region', 'total', '50m'],\n",
    "        aliases=['Регион:', 'Количество бассейнов:', 'Количество \"полтинников\":'],\n",
    "        localize=True\n",
    "    )\n",
    ").add_to(m)\n",
    "\n",
    "m"
   ]
  },
  {
   "cell_type": "markdown",
   "id": "cef54d3f",
   "metadata": {},
   "source": [
    "# Часть 3.2. Анализ развития спортивного плавания в регионах"
   ]
  },
  {
   "cell_type": "markdown",
   "id": "ba5a5a3b",
   "metadata": {},
   "source": [
    "## Новый показатель и гипотеза"
   ]
  },
  {
   "cell_type": "markdown",
   "id": "9699521a",
   "metadata": {},
   "source": [
    "Знать, сколько бассейнов в регионе, хорошо и приятно. Однако куда интереснее было бы узнать, насколько разивто в регионе спортивное плавание. Здесь судить по одному лишь количеству бассейнов может быть некорректно.\n",
    "\n",
    "До сих пор, собирая данные и проводя анализ количества бассейнов, я отдельно выделял \"длинные\" бассейны. Причина в том, что для нашего нынешнего анализа — анализа по части развитии спортивного плавания в регионе — бассейны длиной 50 метров могут быть более показтельны, потому что Олимпийские Игры проводится именно в 50-метровых бассейнах.\n",
    "\n",
    "Добавим ещё один показатель: сколько жителей региона приходится на один бассейн. Своего рода плотность населения по бассейнам. И ещё один: сколько жителей региона приходится на один 50-метровый бассейн."
   ]
  },
  {
   "cell_type": "code",
   "execution_count": null,
   "id": "323f0d49",
   "metadata": {},
   "outputs": [],
   "source": [
    "pd.options.display.float_format = '{:20.2f}'.format\n",
    "regions_pools['pools_density'] = regions_pools['population'] / regions_pools['total']\n",
    "regions_pools['50m_pools_density'] = regions_pools['population']  / regions_pools['50m']\n",
    "regions_pools.replace(np.inf, 0, inplace = True)\n",
    "regions_pools"
   ]
  },
  {
   "cell_type": "markdown",
   "id": "bdde84d6",
   "metadata": {},
   "source": [
    "*Впрочем, я передумал*. У такого показателя есть ряд недостатков.\n",
    "\n",
    "Поступим наоборот: поделим число бассейнов на население. Получим что-то вроде плотности бассейнов. \n",
    "\n",
    "Такой показатель легче интерпретировать, но нужно задуматься о том, как его нормировать, ведь числа очень маленькие (действительно: смысл данного показтеля в том, чтобы показывать, сколько бассейнов приходится на 1 жителя региона). Например, домножим на 1.000.000, и тогда получим число, показывающее, сколько бассейнов приходится на 1 млн жителей в данном регионе."
   ]
  },
  {
   "cell_type": "code",
   "execution_count": null,
   "id": "eb5e0bae",
   "metadata": {},
   "outputs": [],
   "source": [
    "regions_pools['pools_density'] = round(regions_pools['total'] / regions_pools['population'] * 100000, 2)\n",
    "regions_pools['50m_pools_density'] = round(regions_pools['50m'] / regions_pools['population'] * 100000, 2)\n",
    "regions_pools"
   ]
  },
  {
   "cell_type": "markdown",
   "id": "193ae118",
   "metadata": {},
   "source": [
    "Интуиция подсказывает, что чем больше это число, тем, должно быть, более комфортные условия для плавания и для его развития созданы в регионе. \n",
    "Попробуем посмотреть, где плотность бассейнов большего всего:"
   ]
  },
  {
   "cell_type": "code",
   "execution_count": null,
   "id": "ac40602f",
   "metadata": {},
   "outputs": [],
   "source": [
    "regions_pools.sort_values(by = 'pools_density', ascending = False)"
   ]
  },
  {
   "cell_type": "code",
   "execution_count": null,
   "id": "a3b26daf",
   "metadata": {},
   "outputs": [],
   "source": [
    "regions_pools.sort_values(by = '50m_pools_density', ascending = False)"
   ]
  },
  {
   "cell_type": "markdown",
   "id": "a5282107",
   "metadata": {},
   "source": [
    "Итак, у нас появилась новая метрика, но собственно показателя, прямо говорящего о спортивных достижениях региона в плавании у нас пока не было. Пора это исправить."
   ]
  },
  {
   "cell_type": "markdown",
   "id": "50191dd7",
   "metadata": {},
   "source": [
    "## Ещё парсинг: Мастера спорта России по плаванию"
   ]
  },
  {
   "cell_type": "markdown",
   "id": "455affc1",
   "metadata": {},
   "source": [
    "В качестве мерила успехов региона в спортивном плавании примем количество Мастеров спорта по плаванию в этом регионе. \n",
    "\n",
    "Для этого запарсим сайт, собирающий статистику и информацию по развитию спорта в России. Код паука scrapy, опять-таки, будет отдельным файлом, а здесь я просто выгружу полученный датасет:"
   ]
  },
  {
   "cell_type": "code",
   "execution_count": null,
   "id": "09b8a8ce",
   "metadata": {},
   "outputs": [],
   "source": [
    "masters = pd.read_json(\"MS_quant.json\")\n",
    "masters"
   ]
  },
  {
   "cell_type": "code",
   "execution_count": null,
   "id": "14289eb9",
   "metadata": {},
   "outputs": [],
   "source": [
    "masters.sort_values(by = 'ms_quant', ascending = False)"
   ]
  },
  {
   "cell_type": "markdown",
   "id": "d5536383",
   "metadata": {},
   "source": [
    "В этом датасете имеем уже 89 регионов (таковы сегодняшние реалии). Уберём 4 новых региона: ДНР, ЛНР, Херсонскую и Запорожскую области. Вдобавок, придётся снова привести названия регионов к соответсвующим названиям в датасете regions_pools."
   ]
  },
  {
   "cell_type": "code",
   "execution_count": null,
   "id": "5efbb8db",
   "metadata": {},
   "outputs": [],
   "source": [
    "masters[masters['region'] == 'Запорожская область']"
   ]
  },
  {
   "cell_type": "code",
   "execution_count": null,
   "id": "6ff2e6d4",
   "metadata": {},
   "outputs": [],
   "source": [
    "masters.drop([88, 87, 86, 83], inplace = True)\n",
    "masters"
   ]
  },
  {
   "cell_type": "code",
   "execution_count": null,
   "id": "793b9444",
   "metadata": {},
   "outputs": [],
   "source": [
    "masters['region'] = masters['region'].str.replace(' автономный округ', ' АО')\n",
    "masters['region'] = masters['region'].str.replace(' автономная область', ' АО')\n",
    "masters['region'] = masters['region'].str.replace('Ханты-Мансийский АО — Югра', 'Ханты-Мансийский АО')\n",
    "masters[masters['region'].str.contains('АО')]\n",
    "masters"
   ]
  },
  {
   "cell_type": "code",
   "execution_count": null,
   "id": "6e4f4c09",
   "metadata": {},
   "outputs": [],
   "source": [
    "regions_swimming_1 = pd.merge(regions_pools, masters, left_on = 'region', right_on = 'region', how = 'left')\n",
    "regions_swimming_2 = pd.merge(regions_pools, masters, left_on = 'region', right_on = 'region', how = 'right')"
   ]
  },
  {
   "cell_type": "code",
   "execution_count": null,
   "id": "fc1ff5c9",
   "metadata": {},
   "outputs": [],
   "source": [
    "regions_swimming_1[regions_swimming_1['ms_quant'].isna()]"
   ]
  },
  {
   "cell_type": "code",
   "execution_count": null,
   "id": "40b139ca",
   "metadata": {},
   "outputs": [],
   "source": [
    "regions_swimming_2[regions_swimming_2['population'].isna()]"
   ]
  },
  {
   "cell_type": "code",
   "execution_count": null,
   "id": "1512d3ad",
   "metadata": {},
   "outputs": [],
   "source": [
    "masters['region'] = masters['region'].str.replace('город ', '')\n",
    "masters.at[42, 'region'] = 'Кемеровская область'"
   ]
  },
  {
   "cell_type": "markdown",
   "id": "2a04ea5f",
   "metadata": {},
   "source": [
    "Теперь всё в порядке, все 85 субъектов с данными:"
   ]
  },
  {
   "cell_type": "code",
   "execution_count": null,
   "id": "a3826c49",
   "metadata": {},
   "outputs": [],
   "source": [
    "regions_swimming = pd.merge(regions_pools, masters, left_on = 'region', right_on = 'region', how = 'inner')\n",
    "regions_swimming"
   ]
  },
  {
   "cell_type": "markdown",
   "id": "0b4684a2",
   "metadata": {},
   "source": [
    "### Регионы с условно развитым плаванием"
   ]
  },
  {
   "cell_type": "markdown",
   "id": "cc75e88f",
   "metadata": {},
   "source": [
    "И новый показатель: количество Мастеров спорта по плаванию на 100 тысяч жителей региона. На основании этого показателя, если его значение будет не меньше среднего по России, будем считать регион имеющим развитое спортивное плавание. Объективных причин для такой кластеризации нет, но в нашем случае едва ли можно придумать объективный критерий в принципе."
   ]
  },
  {
   "cell_type": "code",
   "execution_count": null,
   "id": "0234cb7c",
   "metadata": {},
   "outputs": [],
   "source": [
    "regions_swimming['ms_density'] = round(regions_swimming['ms_quant'] / regions_swimming['population'] * 100000, 2)\n",
    "regions_swimming"
   ]
  },
  {
   "cell_type": "code",
   "execution_count": null,
   "id": "0d8acfa3",
   "metadata": {},
   "outputs": [],
   "source": [
    "avg_ms_density = regions_swimming['ms_density'].mean()\n",
    "avg_ms_density"
   ]
  },
  {
   "cell_type": "code",
   "execution_count": null,
   "id": "926e38c5",
   "metadata": {},
   "outputs": [],
   "source": [
    "developed_regions = regions_swimming[regions_swimming['ms_density'] >= avg_ms_density]\n",
    "developed_regions.sort_values(by = 'ms_density', ascending = False)"
   ]
  },
  {
   "cell_type": "code",
   "execution_count": null,
   "id": "c49e55a7",
   "metadata": {},
   "outputs": [],
   "source": [
    "print(f\"Согласно нашему критерию, в России {developed_regions['region'].count()} региона с развитым плаванием.\")"
   ]
  },
  {
   "cell_type": "markdown",
   "id": "dc170fcb",
   "metadata": {},
   "source": [
    "## Визуализации и корреляции"
   ]
  },
  {
   "cell_type": "markdown",
   "id": "812e5d78",
   "metadata": {},
   "source": [
    "Теперь у нас много данных и большое поле для действий.\n",
    "\n",
    "- Во-первых, можно оценить взаимосвязь количества Мастеров спорта по плаванию в регионе (прогнозируемая переменная) с другими переменными (независимые переменные).\n",
    "\n",
    "- Во-вторых, хорошо бы посмотреть, какие из перменных (население, бассейны 50 метров, общее число бассейнов, плотность бассейнов или плотность 50-метровых бассейнов) наиболее кореллируют с числом Мастеров спорта по плаванию в регионе.\n",
    "\n",
    "- Наконец, круто было бы получить прогноз числа мастеров спорта, исходя из значимых перменных."
   ]
  },
  {
   "cell_type": "markdown",
   "id": "2b481baf",
   "metadata": {},
   "source": [
    "### 1) Население - МС по плаванию"
   ]
  },
  {
   "cell_type": "code",
   "execution_count": null,
   "id": "8c644f93",
   "metadata": {},
   "outputs": [],
   "source": [
    "fig = plt.figure(figsize=(6, 6))\n",
    "ax = fig.add_subplot(1, 1, 1)\n",
    "x = regions_swimming['population'] / 1000000\n",
    "y = regions_swimming['ms_quant']\n",
    "\n",
    "ax.scatter(x, y, color = 'b')\n",
    "ax.set_xlabel('Население, млн', fontsize = 12)\n",
    "ax.set_ylabel('Количество МС по плаванию', fontsize = 12)\n",
    "ax.set_title('Scatter plot: население региона — МС по плаванию', weight = 'bold', fontsize = 14)\n",
    "ax.set_facecolor('whitesmoke')\n",
    "ax.grid(True)\n",
    "z = np.polyfit(regions_swimming['population'] / 1000000, regions_swimming['ms_quant'], 1)\n",
    "p = np.poly1d(z)\n",
    "ax.plot(x, p(x), color = \"purple\")"
   ]
  },
  {
   "cell_type": "code",
   "execution_count": null,
   "id": "18c07715",
   "metadata": {},
   "outputs": [],
   "source": [
    "correlation_ms_population = regions_swimming['ms_quant'].corr(regions_swimming['population'])\n",
    "print(correlation_ms_population)"
   ]
  },
  {
   "cell_type": "markdown",
   "id": "c86c6b3e",
   "metadata": {},
   "source": [
    "### 2) Бассейны - МС по плаванию"
   ]
  },
  {
   "cell_type": "code",
   "execution_count": null,
   "id": "9b6409ed",
   "metadata": {},
   "outputs": [],
   "source": [
    "fig = plt.figure(figsize=(16, 8))\n",
    "ax1 = fig.add_subplot(1, 2, 1)\n",
    "ax2 = fig.add_subplot(1, 2, 2)\n",
    "x1, x2 = regions_swimming['total'], regions_swimming['50m']\n",
    "y = regions_swimming['ms_quant']\n",
    "\n",
    "ax1.scatter(x1, y, color = 'b')\n",
    "ax1.set_xlabel('Количество бассейнов', fontsize = 12)\n",
    "ax1.set_ylabel('Количество МС по плаванию', fontsize = 12)\n",
    "ax1.set_title('Scatter plot: количество бассейнов — МС по плаванию', weight = 'bold', fontsize = 14)\n",
    "ax1.set_facecolor('whitesmoke')\n",
    "ax1.grid(True)\n",
    "z = np.polyfit(regions_swimming['total'], regions_swimming['ms_quant'], 1)\n",
    "p = np.poly1d(z)\n",
    "ax1.plot(x1, p(x1), color = \"purple\")\n",
    "\n",
    "ax2.scatter(x2, y, color = 'b')\n",
    "ax2.set_xlabel('Количество 50 м бассейнов', fontsize = 12)\n",
    "ax2.set_ylabel('Количество МС по плаванию', fontsize = 12)\n",
    "ax2.set_title('Scatter plot: количество 50 м бассейнов — МС по плаванию', weight = 'bold', fontsize = 14)\n",
    "ax2.set_facecolor('whitesmoke')\n",
    "ax2.grid(True)\n",
    "z = np.polyfit(regions_swimming['50m'], regions_swimming['ms_quant'], 1)\n",
    "p = np.poly1d(z)\n",
    "ax2.plot(x2, p(x2), color = \"purple\")"
   ]
  },
  {
   "cell_type": "code",
   "execution_count": null,
   "id": "e0960c23",
   "metadata": {},
   "outputs": [],
   "source": [
    "correlation_ms_total = regions_swimming['ms_quant'].corr(regions_swimming['total'])\n",
    "print(correlation_ms_total)"
   ]
  },
  {
   "cell_type": "code",
   "execution_count": null,
   "id": "4479ffbc",
   "metadata": {},
   "outputs": [],
   "source": [
    "correlation_ms_50m = regions_swimming['ms_quant'].corr(regions_swimming['50m'])\n",
    "print(correlation_ms_50m)"
   ]
  },
  {
   "cell_type": "markdown",
   "id": "b0824956",
   "metadata": {},
   "source": [
    "### 3) Плотности - МС по плаванию"
   ]
  },
  {
   "cell_type": "code",
   "execution_count": null,
   "id": "6d844a96",
   "metadata": {},
   "outputs": [],
   "source": [
    "fig = plt.figure(figsize=(16, 8))\n",
    "ax1 = fig.add_subplot(1, 2, 1)\n",
    "ax2 = fig.add_subplot(1, 2, 2)\n",
    "x1, x2 = regions_swimming['pools_density'], regions_swimming['50m_pools_density']\n",
    "y = regions_swimming['ms_quant']\n",
    "\n",
    "ax1.scatter(x1, y, color = 'b')\n",
    "ax1.set_xlabel('Плотность бассейнов, басс./100000 тыс. жителей', fontsize = 12)\n",
    "ax1.set_ylabel('Количество МС по плаванию', fontsize = 12)\n",
    "ax1.set_title('Scatter plot: плотность бассейнов — МС по плаванию', weight = 'bold', fontsize = 14)\n",
    "ax1.set_facecolor('whitesmoke')\n",
    "ax1.grid(True)\n",
    "z = np.polyfit(regions_swimming['pools_density'], regions_swimming['ms_quant'], 1)\n",
    "p = np.poly1d(z)\n",
    "ax1.plot(x1, p(x1), color = \"purple\")\n",
    "\n",
    "ax2.scatter(x2, y, color = 'b')\n",
    "ax2.set_xlabel('Плотность 50 м бассейнов, 50 м басс. /100000 тыс. жителей', fontsize = 12)\n",
    "ax2.set_ylabel('Количество МС по плаванию', fontsize = 12)\n",
    "ax2.set_title('Scatter plot: плотность 50 м бассейнов — МС по плаванию', weight = 'bold', fontsize = 14)\n",
    "ax2.set_facecolor('whitesmoke')\n",
    "ax2.grid(True)\n",
    "z = np.polyfit(regions_swimming['50m_pools_density'], regions_swimming['ms_quant'], 1)\n",
    "p = np.poly1d(z)\n",
    "ax2.plot(x2, p(x2), color = \"purple\")"
   ]
  },
  {
   "cell_type": "code",
   "execution_count": null,
   "id": "d2f5a012",
   "metadata": {},
   "outputs": [],
   "source": [
    "correlation_ms_density = regions_swimming['ms_quant'].corr(regions_swimming['pools_density'])\n",
    "print(correlation_ms_density)"
   ]
  },
  {
   "cell_type": "code",
   "execution_count": null,
   "id": "788a8583",
   "metadata": {},
   "outputs": [],
   "source": [
    "correlation_ms_50m_density = regions_swimming['ms_quant'].corr(regions_swimming['50m_pools_density'])\n",
    "print(correlation_ms_50m_density)"
   ]
  },
  {
   "cell_type": "markdown",
   "id": "4c424a29",
   "metadata": {},
   "source": [
    "Соберём корреляции в кучу:"
   ]
  },
  {
   "cell_type": "code",
   "execution_count": null,
   "id": "290963aa",
   "metadata": {},
   "outputs": [],
   "source": [
    "correlations = regions_swimming[['ms_quant', 'population', 'total', '50m', 'pools_density', '50m_pools_density', 'ms_density']].corr()\n",
    "\n",
    "correlations.style.format(precision=2)\\\n",
    "  .background_gradient(cmap='coolwarm')"
   ]
  },
  {
   "cell_type": "markdown",
   "id": "8d14e71a",
   "metadata": {},
   "source": [
    "### Промежуточный вывод"
   ]
  },
  {
   "cell_type": "markdown",
   "id": "325e1720",
   "metadata": {},
   "source": [
    "Выходит, что при анализе всех 85 регионов наиболее наибольшую корреляцию число Мастеров спорта имеет, как это ни банально, с общим числом бассейно в регионе. Даже немного грустно видеть такой результат, и особенно — видеть мизерную корреляцию с плотностью бассейнов. Ну да никто и не обещал, что сможем наблюдать связь с этим показателем.\n",
    "\n",
    "Если мы выбираем плотность мастеров спорта как метрику, отражающую развитие региона в спортивном плавании, то сильной коррелиции не удаётся увидеть ни с каким из показателей, что тоже не самый радостный результат.\n",
    "\n",
    "Думаю, что можно попробовать построить предсказтельную модель числа Мастеров спорта по плаванию на основании двух показателей: населения и общего числа бассейнов. "
   ]
  },
  {
   "cell_type": "markdown",
   "id": "c506ccc9",
   "metadata": {},
   "source": [
    "### 4) Предсказательная модель"
   ]
  },
  {
   "cell_type": "code",
   "execution_count": null,
   "id": "f94132da",
   "metadata": {},
   "outputs": [],
   "source": [
    "X = regions_swimming.loc[:, ['population', 'total']]\n",
    "y = regions_swimming['ms_quant']\n",
    "\n",
    "\n",
    "X_train, X_test, y_train, y_test = train_test_split(X, y, test_size = 0.2, random_state = 42)\n",
    "\n",
    "regr = LinearRegression()\n",
    "regr.fit(X_train, y_train)\n",
    "y_pred = regr.predict(X_test)\n",
    "\n",
    "print(\"Mean squared error (MSE):  %.2f\" % mean_squared_error(y_test, y_pred))\n",
    "print(\"Mean absolute error (MAE):  %.2f\" % mean_absolute_error(y_test, y_pred))\n",
    "print(\"Coefficient of determination (R^2): %.2f\" % r2_score(y_test, y_pred))\n",
    "print(f'Coefficients: {regr.coef_[0]:.5f}, {regr.coef_[1]:.5f}')"
   ]
  },
  {
   "cell_type": "markdown",
   "id": "63c3f05f",
   "metadata": {},
   "source": [
    "Модель даёт лишь уодвлетворительный результат: R^2 маловат. \n",
    "\n",
    "Коэффициент при численности населения почти нулевой, однако это неудивительно: размерность переменных совершенно разная, поэтому такой результат более чем адекватен."
   ]
  },
  {
   "cell_type": "code",
   "execution_count": null,
   "id": "3c67ac7c",
   "metadata": {},
   "outputs": [],
   "source": [
    "def predict_ms(population, pools):\n",
    "    ms_quant = population * 0.00003 + pools * 0.76279\n",
    "    return round(ms_quant)\n",
    "\n",
    "population = int(input('Введите число жителей в вашем регионе:'))\n",
    "pools = int(input('Введите число бассейнов в вашем регионе:'))\n",
    "print(f'Предполагаемое число Мастеров Спорта по плаванию в регионе: {predict_ms(population, pools)}')"
   ]
  },
  {
   "cell_type": "markdown",
   "id": "d42b81aa-027c-45df-94da-62272d2952ce",
   "metadata": {},
   "source": [
    "Оставляю эту функцию здесь, но её же добавил и в приложение streamlit."
   ]
  },
  {
   "cell_type": "markdown",
   "id": "d0cbc236",
   "metadata": {},
   "source": [
    "## Карта "
   ]
  },
  {
   "cell_type": "markdown",
   "id": "50bd6bf0",
   "metadata": {},
   "source": [
    "Теперь создадим карту на основании плотности Мастеров Спорта в регионе."
   ]
  },
  {
   "cell_type": "code",
   "execution_count": null,
   "id": "cfa514d4-f138-4232-8161-84a03320caac",
   "metadata": {},
   "outputs": [],
   "source": [
    "#выгружаю датасет локально, чтобы впоследствии сделать демонстрацию карты в Streamlit\n",
    "\n",
    "regions_swimming.to_file(\"regions_swimming.json\", driver=\"GeoJSON\")"
   ]
  },
  {
   "cell_type": "code",
   "execution_count": null,
   "id": "4511bff3",
   "metadata": {},
   "outputs": [],
   "source": [
    "m = folium.Map(location=[64.6863136, 97.7453061], zoom_start=3)\n",
    "\n",
    "max_count = regions_swimming['ms_density'].max()\n",
    "min_count = regions_swimming['ms_density'].min()\n",
    "colormap = cm.linear.PuBuGn_09.scale(min_count, max_count)\n",
    "colormap.add_to(m)\n",
    "\n",
    "def style_function(feature):\n",
    "    regions_swimming = feature['properties']['ms_density']\n",
    "    return {\n",
    "        'fillColor': colormap(regions_swimming),\n",
    "        'color': 'black',\n",
    "        'weight': 1,\n",
    "        'fillOpacity': 0.7\n",
    "    }\n",
    "\n",
    "folium.GeoJson(\n",
    "    regions_swimming,\n",
    "    style_function=style_function,\n",
    "    tooltip=folium.GeoJsonTooltip(\n",
    "        fields=['region', 'ms_quant', 'ms_density'],\n",
    "        aliases=['Регион:', 'Количество МС по плаванию:', 'Число МС по плаванию на 100 тыс. жителей:'],\n",
    "        localize=True,\n",
    "    )\n",
    ").add_to(m)\n",
    "\n",
    "m"
   ]
  },
  {
   "cell_type": "markdown",
   "id": "af851a96",
   "metadata": {},
   "source": [
    "# Часть 4. SQL"
   ]
  },
  {
   "cell_type": "markdown",
   "id": "9e2f4e45",
   "metadata": {},
   "source": [
    "Удалим столбец с геометрией: в базе данных он нам не понадобится."
   ]
  },
  {
   "cell_type": "code",
   "execution_count": null,
   "id": "33dbdea0",
   "metadata": {},
   "outputs": [],
   "source": [
    "del regions_swimming['geometry']"
   ]
  },
  {
   "cell_type": "code",
   "execution_count": null,
   "id": "bbf44834",
   "metadata": {},
   "outputs": [],
   "source": [
    "from sqlalchemy import create_engine\n",
    "\n",
    "engine = create_engine(\"sqlite:///regions_swimming.db\")\n",
    "regions_swimming.to_sql('swimming_data', engine, if_exists='replace') "
   ]
  },
  {
   "cell_type": "code",
   "execution_count": null,
   "id": "cd01e861",
   "metadata": {},
   "outputs": [],
   "source": [
    "%load_ext sql"
   ]
  },
  {
   "cell_type": "code",
   "execution_count": null,
   "id": "90aa86f7",
   "metadata": {},
   "outputs": [],
   "source": [
    "%sql sqlite:///regions_swimming.db"
   ]
  },
  {
   "cell_type": "markdown",
   "id": "ede3780b",
   "metadata": {},
   "source": [
    "Найдём топ-15 регионов по количеству МС по плаванию:"
   ]
  },
  {
   "cell_type": "code",
   "execution_count": null,
   "id": "3f9a738f",
   "metadata": {},
   "outputs": [],
   "source": [
    "%%sql\n",
    "SELECT region, ms_quant \n",
    "FROM swimming_data \n",
    "ORDER BY ms_quant DESC\n",
    "LIMIT 15"
   ]
  },
  {
   "cell_type": "markdown",
   "id": "fe2977f9",
   "metadata": {},
   "source": [
    "Теперь по плотности:"
   ]
  },
  {
   "cell_type": "code",
   "execution_count": null,
   "id": "003c5146",
   "metadata": {},
   "outputs": [],
   "source": [
    "%%sql\n",
    "SELECT region, ms_density, ms_quant, total, population\n",
    "FROM swimming_data \n",
    "ORDER BY ms_density DESC\n",
    "LIMIT 5"
   ]
  },
  {
   "cell_type": "markdown",
   "id": "b3e838c4",
   "metadata": {},
   "source": [
    "Внезапно, Москвы здесь не оказалось, хотя есть Санкт-Петербург."
   ]
  },
  {
   "cell_type": "markdown",
   "id": "4ad622a4",
   "metadata": {},
   "source": [
    "Посмотрим на статистику по федеральным округам:"
   ]
  },
  {
   "cell_type": "code",
   "execution_count": null,
   "id": "3956fc2e",
   "metadata": {},
   "outputs": [],
   "source": [
    "%%sql\n",
    "SELECT federal_district, \n",
    "SUM(ms_quant) as sum_ms,\n",
    "SUM(total) as sum_total_pools,\n",
    "ROUND(AVG(ms_density), 2) as avg_ms_density, \n",
    "ROUND(AVG(ms_quant), 2) as avg_ms_quant, \n",
    "ROUND(AVG(total), 2) as avg_total_pools\n",
    "FROM swimming_data \n",
    "GROUP BY federal_district\n",
    "ORDER BY sum_ms DESC"
   ]
  },
  {
   "cell_type": "markdown",
   "id": "c431ad32",
   "metadata": {},
   "source": [
    "Выберем те регионы, где число бассейнов и число МС больше среднего по России"
   ]
  },
  {
   "cell_type": "code",
   "execution_count": null,
   "id": "bf628586",
   "metadata": {},
   "outputs": [],
   "source": [
    "%%sql\n",
    "SELECT ROUND(AVG(ms_quant), 2), ROUND(AVG(total), 2) FROM swimming_data"
   ]
  },
  {
   "cell_type": "code",
   "execution_count": null,
   "id": "55f5597f",
   "metadata": {},
   "outputs": [],
   "source": [
    "%%sql\n",
    "SELECT region, population, ms_quant, total as pools_quant FROM swimming_data\n",
    "WHERE ms_quant > (SELECT AVG(ms_quant) FROM swimming_data) and  total > (SELECT AVG(total) FROM swimming_data)\n",
    "ORDER BY population DESC"
   ]
  },
  {
   "cell_type": "markdown",
   "id": "14e5730a",
   "metadata": {},
   "source": [
    "Наконец, посмотрим на топ-10 регионов, где наиболее эффективно развивается плавание, то есть в которых число Мастеров спорта на один бассейн региона наибольшее:"
   ]
  },
  {
   "cell_type": "code",
   "execution_count": null,
   "id": "c3b3214d",
   "metadata": {},
   "outputs": [],
   "source": [
    "%%sql\n",
    "SELECT *, ROUND(ms_quant / CAST(total AS FLOAT), 2) AS efficiency FROM swimming_data\n",
    "ORDER BY efficiency DESC\n",
    "LIMIT 10"
   ]
  },
  {
   "cell_type": "markdown",
   "id": "2fbb05b6",
   "metadata": {},
   "source": [
    "# Итоги"
   ]
  },
  {
   "cell_type": "markdown",
   "id": "29597412",
   "metadata": {},
   "source": [
    "В результате анализа удалось прийти к изначально интуитивному выводу, что больше всего плавание развито там, где больше всего бассейнов. Но получены и несколько, по моему мнению, интересных результатов и любопытных наблюдений.\n",
    "\n",
    "- Интересный вывод 1: в среднем на 100 тысяч жителей России приходится 2 Мастера спорта по плаванию.\n",
    "\n",
    "- Интересный вывод 2: Пензенская область — абсолютный лидер по \"плотности\" Мастеров спорта по плаванию.\n",
    "\n",
    "- Интересный вывод 3: во всех показателях, отнормированных по населению или по числу бассейнов (речь про \"эффективность\"), Санкт-Петербург опережает Москву."
   ]
  }
 ],
 "metadata": {
  "kernelspec": {
   "display_name": "Python 3 (ipykernel)",
   "language": "python",
   "name": "python3"
  },
  "language_info": {
   "codemirror_mode": {
    "name": "ipython",
    "version": 3
   },
   "file_extension": ".py",
   "mimetype": "text/x-python",
   "name": "python",
   "nbconvert_exporter": "python",
   "pygments_lexer": "ipython3",
   "version": "3.9.13"
  }
 },
 "nbformat": 4,
 "nbformat_minor": 5
}
